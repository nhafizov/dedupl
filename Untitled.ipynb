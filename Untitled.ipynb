{
 "cells": [
  {
   "cell_type": "code",
   "execution_count": 1,
   "metadata": {},
   "outputs": [
    {
     "data": {
      "text/html": [
       "<style>.container { width:100% !important; border-left-width: 1px !important; resize: vertical}</style>"
      ],
      "text/plain": [
       "<IPython.core.display.HTML object>"
      ]
     },
     "metadata": {},
     "output_type": "display_data"
    }
   ],
   "source": [
    "from IPython.core.display import display, HTML\n",
    "display(HTML(\"<style>.container { width:100% !important; border-left-width: 1px !important; resize: vertical}</style>\"))"
   ]
  },
  {
   "cell_type": "code",
   "execution_count": 60,
   "metadata": {},
   "outputs": [],
   "source": [
    "unlabeledDF = dataFrame=spark.read.format(\"com.intersystems.spark\").option(\"url\", \"IRIS://localhost:51773/DEDUPL\").option(\"user\", \"_SYSTEM\").option(\"password\", \"lAHmyMManakKlK6qSWMA\").option(\"dbtable\", \"deduplication.unlabeledData\").load()"
   ]
  },
  {
   "cell_type": "code",
   "execution_count": 62,
   "metadata": {},
   "outputs": [],
   "source": [
    "rows = unlabeledDF.collect()"
   ]
  },
  {
   "cell_type": "code",
   "execution_count": 73,
   "metadata": {},
   "outputs": [],
   "source": [
    "from IPython.display import clear_output\n",
    "from prettytable import PrettyTable\n",
    "from collections import OrderedDict\n",
    "\n",
    "columnsForLabeledDF = ['ID1', 'familyName1', 'givenName1', 'middleName1', 'dob1', 'gender1', 'snils1', 'prevIdentityDocuments1', 'addr_addressLine1',\n",
    "                     'addr_okato1', 'birthCertificate_docDate1', 'birthCertificate_docNum1', 'birthCertificate_docSer1',\n",
    "                     'birthCertificate_docType1', 'identityDocument_docDate1', 'identityDocument_docNum1', 'identityDocument_docSer1',\n",
    "                     'identityDocument_docSource1', 'identityDocument_docType1', 'ID2', 'familyName2', 'givenName2', 'middleName2', 'dob2', 'gender2',\n",
    "                     'snils2', 'prevIdentityDocuments2', 'addr_addressLine2', 'addr_okato2', 'birthCertificate_docDate2', 'birthCertificate_docNum2',\n",
    "                     'birthCertificate_docSer2', 'birthCertificate_docType2', 'identityDocument_docDate2', 'identityDocument_docNum2', \n",
    "                     'identityDocument_docSer2', 'identityDocument_docSource2', 'identityDocument_docType2']\n",
    "\n",
    "def printTable(row):\n",
    "    row = OrderedDict((k, row.asDict()[k]) for k in columnsForLabeledDF)\n",
    "    table = PrettyTable()\n",
    "    column_names = ['Person1', 'Person2']\n",
    "    column1 = []\n",
    "    column2 = []\n",
    "    i = 0\n",
    "    for key, value in row.items():\n",
    "        if key != 'ID1' and key != 'ID2' and key != \"prevIdentityDocuments1\" and key != 'prevIdentityDocuments2' and key != \"features\":\n",
    "            if (i < 20):\n",
    "                column1.append(value)\n",
    "            else:\n",
    "                column2.append(value)\n",
    "        i += 1\n",
    "    table.add_column(column_names[0], column1)\n",
    "    table.add_column(column_names[1], column2)\n",
    "    print(table)"
   ]
  },
  {
   "cell_type": "code",
   "execution_count": 74,
   "metadata": {},
   "outputs": [],
   "source": [
    "listDF = []"
   ]
  },
  {
   "cell_type": "code",
   "execution_count": 75,
   "metadata": {
    "scrolled": false
   },
   "outputs": [
    {
     "name": "stdout",
     "output_type": "stream",
     "text": [
      "+-------------------------------------------+--------------------------------------------+\n",
      "|                  Person1                  |                  Person2                   |\n",
      "+-------------------------------------------+--------------------------------------------+\n",
      "|                  Судакова                 |                  Судакова                  |\n",
      "|                  Альбина                  |                  Альбина                   |\n",
      "|                 Михайловна                |                 Мидхатовна                 |\n",
      "|                 2004-04-23                |                 1947-03-08                 |\n",
      "|                     F                     |                     F                      |\n",
      "|               156-722-552 77              |               150-008-610 00               |\n",
      "| село Щёкино, Рабочая улица, дом 37, кв.52 | село Шпилёво, улица Баумана, дом 33, кв.73 |\n",
      "|                  22265896                 |                  94120725                  |\n",
      "|                 2004-05-06                |                 1947-03-25                 |\n",
      "|                   998711                  |                   199859                   |\n",
      "|                   IX-ФМ                   |                    I-ДХ                    |\n",
      "|                     3                     |                     3                      |\n",
      "|                 2022-04-19                |                 1965-03-03                 |\n",
      "|                   154968                  |                   901404                   |\n",
      "|                    7001                   |                    7350                    |\n",
      "|              ОВД село Лисёнки             |         ОВД пос. Большое Давыдово          |\n",
      "|                     14                    |                     13                     |\n",
      "+-------------------------------------------+--------------------------------------------+\n",
      "duplicate? y|n|stopstop\n"
     ]
    }
   ],
   "source": [
    "from pyspark.sql import Row\n",
    "from IPython.display import clear_output\n",
    "import time\n",
    "\n",
    "for number in range(len(listDF), len(rows)):\n",
    "    row = rows[number]\n",
    "    if (len(listDF) % 10) == 0:\n",
    "        print(len(listDF))\n",
    "    printTable(row)\n",
    "    result = 0\n",
    "    label = 123\n",
    "    while True:\n",
    "        result = input('duplicate? y|n|stop')\n",
    "        if (result == 'stop'):\n",
    "            break\n",
    "        elif result == 'y':\n",
    "            label = 1.0\n",
    "            break\n",
    "        elif result == 'n':\n",
    "            label = 0.0\n",
    "            break\n",
    "        else:\n",
    "            print('only y|n|stop')\n",
    "            continue\n",
    "    if result == 'stop':\n",
    "        break\n",
    "    tmp = row.asDict()\n",
    "    tmp['label'] = label\n",
    "    newRow = Row(**tmp)\n",
    "    listDF.append(newRow)\n",
    "    time.sleep(0.2)\n",
    "    clear_output()"
   ]
  },
  {
   "cell_type": "code",
   "execution_count": 76,
   "metadata": {
    "scrolled": false
   },
   "outputs": [],
   "source": [
    "columnsForLabeledDF.append('label')\n",
    "labeledDF = spark.createDataFrame(listDF).select(*columnsForLabeledDF)"
   ]
  },
  {
   "cell_type": "code",
   "execution_count": 137,
   "metadata": {},
   "outputs": [],
   "source": [
    "labeledDF.write.format(\"com.intersystems.spark\").\\\n",
    "option(\"url\", \"IRIS://localhost:51773/DEDUPL\").\\\n",
    "option(\"user\", \"_SYSTEM\").option(\"password\", \"lAHmyMManakKlK6qSWMA\").\\\n",
    "option(\"dbtable\", \"deduplication.labeledData\").save()"
   ]
  },
  {
   "cell_type": "code",
   "execution_count": null,
   "metadata": {},
   "outputs": [],
   "source": []
  }
 ],
 "metadata": {
  "kernelspec": {
   "display_name": "Python 3",
   "language": "python",
   "name": "python3"
  },
  "language_info": {
   "codemirror_mode": {
    "name": "ipython",
    "version": 3
   },
   "file_extension": ".py",
   "mimetype": "text/x-python",
   "name": "python",
   "nbconvert_exporter": "python",
   "pygments_lexer": "ipython3",
   "version": "3.5.3"
  }
 },
 "nbformat": 4,
 "nbformat_minor": 2
}
